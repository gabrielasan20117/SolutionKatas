{
 "cells": [
  {
   "cell_type": "markdown",
   "metadata": {},
   "source": [
    "## Ejercicio 1"
   ]
  },
  {
   "cell_type": "code",
   "execution_count": 6,
   "metadata": {},
   "outputs": [],
   "source": [
    "def combustible(t1,t2,t3):\n",
    "    promedio = t1+t2+t3/3\n",
    "    return f\"Promedio de tanques: {promedio}\\nTanque 1: {t1}\\nTanque 2: {t2}\\nTanque 3: {t3}\"\n",
    "    "
   ]
  },
  {
   "cell_type": "code",
   "execution_count": 8,
   "metadata": {},
   "outputs": [
    {
     "name": "stdout",
     "output_type": "stream",
     "text": [
      "Promedio de tanques: 66.66666666666666\n",
      "Tanque 1: 10\n",
      "Tanque 2: 20\n",
      "Tanque 3: 110\n"
     ]
    }
   ],
   "source": [
    "print(combustible(10,20,110))"
   ]
  },
  {
   "cell_type": "code",
   "execution_count": 13,
   "metadata": {},
   "outputs": [
    {
     "data": {
      "text/plain": [
       "54.75"
      ]
     },
     "execution_count": 13,
     "metadata": {},
     "output_type": "execute_result"
    }
   ],
   "source": [
    "def pro(*args):\n",
    "    valor = len(args)\n",
    "    promedio = sum(args)/valor\n",
    "    return promedio\n",
    "pro(100,100,9,10)"
   ]
  },
  {
   "cell_type": "code",
   "execution_count": 18,
   "metadata": {},
   "outputs": [
    {
     "data": {
      "text/plain": [
       "'Promedio de tanques: 46.666666666666664 \\nTanque 1: 100\\nTanque 2: 20\\nTanque 3: 20'"
      ]
     },
     "execution_count": 18,
     "metadata": {},
     "output_type": "execute_result"
    }
   ],
   "source": [
    "def combustible(t1,t2,t3):\n",
    "    return f\"Promedio de tanques: {pro(t1,t2,t3)}\\nTanque 1: {t1}\\nTanque 2: {t2}\\nTanque 3: {t3}\"\n",
    "\n",
    "combustible(100,20,20)"
   ]
  },
  {
   "cell_type": "markdown",
   "metadata": {},
   "source": [
    "## Ejercicio 2"
   ]
  },
  {
   "cell_type": "code",
   "execution_count": 30,
   "metadata": {},
   "outputs": [
    {
     "data": {
      "text/plain": [
       "'El destino es MARTE. El total de gasolina es 150. El tiempo total del viaje es 20'"
      ]
     },
     "execution_count": 30,
     "metadata": {},
     "output_type": "execute_result"
    }
   ],
   "source": [
    "# Función con un informe preciso de la misión. Considera hora de prelanzamiento, tiempo de vuelo, destino, tanque externo y tanque interno\n",
    "def informe(hora,tiempo,destino,texterno,tinterno):\n",
    "    return f\"\"\"El destino es {destino}. El total de gasolina es {texterno + tinterno}. El tiempo total del viaje es {hora + tiempo}\"\"\"\n",
    "informe(hora=10,tiempo=10,destino='MARTE',texterno=100,tinterno=50)"
   ]
  },
  {
   "cell_type": "code",
   "execution_count": 45,
   "metadata": {},
   "outputs": [
    {
     "data": {
      "text/plain": [
       "'El destino es marte. El total de gasolina es 30. El tiempo total del viaje es 35'"
      ]
     },
     "execution_count": 45,
     "metadata": {},
     "output_type": "execute_result"
    }
   ],
   "source": [
    "def informe(destino,*minutes,**fuel_reservoirs):\n",
    "    total_minutes = sum(minutes)\n",
    "    total = 0\n",
    "    for t in fuel_reservoirs.values():\n",
    "        total = total + t\n",
    "    return f\"\"\"El destino es {destino}. El total de gasolina es {total}. El tiempo total del viaje es {sum(minutes)}\"\"\"\n",
    "informe(\"marte\",10,14,11,f1=10,f2=20)"
   ]
  },
  {
   "cell_type": "code",
   "execution_count": 55,
   "metadata": {},
   "outputs": [
    {
     "data": {
      "text/plain": [
       "'El destino es marte. El total de gasolina es de 30. El tiempo total del viaje es 35. El f1 contiene 10.  El f2 contiene 20. '"
      ]
     },
     "execution_count": 55,
     "metadata": {},
     "output_type": "execute_result"
    }
   ],
   "source": [
    "def informe(destino,*minutes,**fuel_reservoirs):\n",
    "    total_minutes = sum(minutes)\n",
    "    total = 0\n",
    "    for t in fuel_reservoirs.values():\n",
    "        total = total + t\n",
    "    report =  f\"\"\"El destino es {destino}. El total de gasolina es de {total}. El tiempo total del viaje es {total_minutes}.\"\"\"\n",
    "    for tanque,cantidad in fuel_reservoirs.items():\n",
    "        report += f\" El {tanque} contiene {cantidad}. \"\n",
    "    return report\n",
    "informe(\"marte\",10,14,11,f1=10,f2=20)"
   ]
  }
 ],
 "metadata": {
  "interpreter": {
   "hash": "bfb4883d108fc92ac768439090a2e92bb9a1f760a54beeecfd6762b5dcd70fe3"
  },
  "kernelspec": {
   "display_name": "Python 3.10.2 64-bit",
   "language": "python",
   "name": "python3"
  },
  "language_info": {
   "codemirror_mode": {
    "name": "ipython",
    "version": 3
   },
   "file_extension": ".py",
   "mimetype": "text/x-python",
   "name": "python",
   "nbconvert_exporter": "python",
   "pygments_lexer": "ipython3",
   "version": "3.10.2"
  },
  "orig_nbformat": 4
 },
 "nbformat": 4,
 "nbformat_minor": 2
}
