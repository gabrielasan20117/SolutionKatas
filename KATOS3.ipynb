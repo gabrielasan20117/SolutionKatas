{
 "cells": [
  {
   "cell_type": "markdown",
   "metadata": {},
   "source": [
    "## Ejercicio 1"
   ]
  },
  {
   "cell_type": "code",
   "execution_count": 1,
   "metadata": {},
   "outputs": [
    {
     "name": "stdout",
     "output_type": "stream",
     "text": [
      "Un asteroide se acerca\n"
     ]
    }
   ],
   "source": [
    "asteroide = 49\n",
    "if asteroide > 25:\n",
    "    print(\"Un asteroide se acerca a gran velocidad\")\n",
    "else:\n",
    "    print(\"Ningun asteroide se acerca\")\n"
   ]
  },
  {
   "cell_type": "markdown",
   "metadata": {},
   "source": [
    "## Ejercicio 2"
   ]
  },
  {
   "cell_type": "code",
   "execution_count": 9,
   "metadata": {},
   "outputs": [
    {
     "name": "stdout",
     "output_type": "stream",
     "text": [
      "Busca un rayo de luz! Un asteroide se dirige a la tierra\n"
     ]
    }
   ],
   "source": [
    "asteroide = 40\n",
    "if asteroide > 20:\n",
    "    print(\"Busca un rayo de luz! Un asteroide se dirige a la Tierra\")\n",
    "elif asteroide == 20:\n",
    "    print(\"Busca un rayo de luz! Un asteroide se dirige a la Tierra\")\n",
    "else:\n",
    "    print(\"Ningun asteroide se digir a la Tierra\")\n"
   ]
  },
  {
   "cell_type": "markdown",
   "metadata": {},
   "source": [
    "## Ejercicio 3"
   ]
  },
  {
   "cell_type": "code",
   "execution_count": 18,
   "metadata": {},
   "outputs": [
    {
     "name": "stdout",
     "output_type": "stream",
     "text": [
      "Ningun asteroide se digir a la Tierra\n"
     ]
    }
   ],
   "source": [
    "velocidad = 10\n",
    "diametro = 10\n",
    "if velocidad > 25 and diametro > 25 :\n",
    "    print(\"Un asteroide se acerca a gran velocidad y causara daños\")\n",
    "elif velocidad > 20 or velocidad == 20 :\n",
    "    print(\"Busca un rayo de luz! Un asteroide se dirige a la Tierra\")\n",
    "elif velocidad < 25:\n",
    "    print(\"Ningun asteroide se digir a la Tierra\")\n",
    "else:\n",
    "    print(\"Ningun asteroide se digir a la Tierra\")"
   ]
  }
 ],
 "metadata": {
  "interpreter": {
   "hash": "bfb4883d108fc92ac768439090a2e92bb9a1f760a54beeecfd6762b5dcd70fe3"
  },
  "kernelspec": {
   "display_name": "Python 3.10.2 64-bit",
   "language": "python",
   "name": "python3"
  },
  "language_info": {
   "codemirror_mode": {
    "name": "ipython",
    "version": 3
   },
   "file_extension": ".py",
   "mimetype": "text/x-python",
   "name": "python",
   "nbconvert_exporter": "python",
   "pygments_lexer": "ipython3",
   "version": "3.10.2"
  },
  "orig_nbformat": 4
 },
 "nbformat": 4,
 "nbformat_minor": 2
}
